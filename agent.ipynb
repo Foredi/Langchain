{
 "cells": [
  {
   "cell_type": "code",
   "execution_count": 1,
   "metadata": {},
   "outputs": [
    {
     "data": {
      "text/plain": [
       "True"
      ]
     },
     "execution_count": 1,
     "metadata": {},
     "output_type": "execute_result"
    }
   ],
   "source": [
    "from langchain.schema import HumanMessage, SystemMessage, AIMessage\n",
    "from langchain_google_genai import ChatGoogleGenerativeAI, GoogleGenerativeAI\n",
    "from langchain_core.prompts import ChatPromptTemplate\n",
    "from langchain.memory import ConversationBufferMemory\n",
    "from langchain_core.runnables import RunnablePassthrough, RunnableParallel\n",
    "from langchain_core.output_parsers import StrOutputParser\n",
    "from langchain_community.tools import WikipediaQueryRun, DuckDuckGoSearchRun\n",
    "from langchain_community.utilities import WikipediaAPIWrapper, DuckDuckGoSearchAPIWrapper\n",
    "from langchain_community.chat_message_histories import ChatMessageHistory\n",
    "from langchain.agents import AgentExecutor, create_tool_calling_agent\n",
    "from langchain_core.tools import tool\n",
    "from langchain_core.chat_history import BaseChatMessageHistory\n",
    "from langchain_core.runnables.history import RunnableWithMessageHistory\n",
    "import os\n",
    "from dotenv import load_dotenv\n",
    "\n",
    "load_dotenv()"
   ]
  },
  {
   "cell_type": "code",
   "execution_count": 2,
   "metadata": {},
   "outputs": [],
   "source": [
    "template = \"\"\"\n",
    "    Bạn là một trợ lý ảo giúp người dùng tìm kiếm thông tin trên Wikipedia và DuckDuckGo. Hãy trả lời các câu hỏi của người dùng bằng tiếng Việt.\n",
    "\n",
    "    **Phương pháp suy ra query:**\n",
    "    1. **Xác định ý định câu hỏi:**\n",
    "       - Nhận diện các câu hỏi yêu cầu thông tin (ví dụ: \"là gì\", \"cho tôi biết\", \"giúp tôi tìm\", \"tìm thông tin về\", \"cho tôi hỏi về\", v.v.).\n",
    "\n",
    "    2. **Trích xuất nội dung chính:**\n",
    "       - Nếu câu hỏi chứa các cụm từ chỉ định, trích xuất nội dung đứng sau các cụm từ đó làm **query**.\n",
    "       - Nếu không có cụm từ chỉ định rõ ràng, xác định danh từ chính hoặc chủ đề trung tâm của câu hỏi làm **query**.\n",
    "       - Xử lý linh hoạt các biến thể câu hỏi bằng cách nhận diện cấu trúc câu và các từ khóa quan trọng.\n",
    "\n",
    "    Ví dụ:\n",
    "    - \"Bạn hãy cho mình biết thông tin về Albert Einstein.\" → query = \"Albert Einstein\"\n",
    "    - \"Python là gì?\" → query = \"Python\"\n",
    "    - \"Ai phát minh ra bóng đèn?\" → query = \"người phát minh ra bóng đèn\"\n",
    "\n",
    "    **Kịch bản:**\n",
    "    1. Trợ lý trả lời: \"Mình là một trợ lý ảo giúp người dùng tìm kiếm thông tin trên Wikipedia và DuckDuckGo.\"\n",
    "    2. Người dùng hỏi: \"Bạn có thể giúp tôi tìm thông tin về {input_message} không?\"\n",
    "    3. Trợ lý trả lời: \"\\nDạ, mình sẽ giúp bạn tìm thông tin về {input_message}.\"\n",
    "    4. Trợ lý tìm kiếm thông tin về {input_message} trên Wikipedia.\n",
    "    Nếu tìm thấy thông tin trên Wikipedia:\n",
    "        5. Trợ lý trả lời: \"\\nĐây là thông tin về {input_message}: ...\"\n",
    "        6. Người dùng hỏi: \"Cảm ơn bạn.\"\n",
    "        7. Trợ lý trả lời: \"Không có gì, bạn cứ hỏi nếu cần giúp đỡ.\"\n",
    "\n",
    "    Nếu không tìm thấy thông tin trên Wikipedia:\n",
    "        5. Trợ lý trả lời: \"\\nXin lỗi, mình không tìm thấy thông tin về {input_message} trên Wikipedia. Mình sẽ thử tìm kiếm trên DuckDuckGo.\"\n",
    "        6. Trợ lý tìm kiếm thông tin về {input_message} trên DuckDuckGo.\n",
    "        7. Trợ lý trả lời: \"\\nĐây là thông tin về {input_message}: ...\"\n",
    "        8. Người dùng hỏi: \"Cảm ơn bạn.\"\n",
    "        9. Trợ lý trả lời: \"Không có gì, bạn cứ hỏi nếu cần giúp đỡ.\"\n",
    "\n",
    "    **Lưu ý:**\n",
    "    - Linh hoạt nhận diện và xử lý các biến thể ngôn ngữ trong câu hỏi.\n",
    "    - Ưu tiên kết quả từ Wikipedia trước, sau đó mới tìm trên DuckDuckGo nếu cần thiết.\n",
    "\"\"\""
   ]
  },
  {
   "cell_type": "code",
   "execution_count": 3,
   "metadata": {},
   "outputs": [],
   "source": [
    "prompt = ChatPromptTemplate.from_messages([\n",
    "        (\"system\", template),\n",
    "        (\"placeholder\", \"{chat_history}\"),\n",
    "        (\"human\", \"{input_message}\"),\n",
    "        (\"placeholder\", \"{agent_scratchpad}\"),\n",
    "])"
   ]
  },
  {
   "cell_type": "code",
   "execution_count": 4,
   "metadata": {},
   "outputs": [],
   "source": [
    "@tool(description=\"Search for information on Wikipedia in Vietnamese\")\n",
    "def search_wikipedia(query: str) -> str:\n",
    "    \"\"\"\n",
    "    Searches for information on Wikipedia using the given query in Vietnamese.\n",
    "    \n",
    "    Args:\n",
    "        query (str): The search query string.\n",
    "    \n",
    "    Returns:\n",
    "        str: Search results from Wikipedia in Vietnamese.\n",
    "    \"\"\"\n",
    "    # Tạo đối tượng Wikipedia API với ngôn ngữ tiếng Việt\n",
    "    wikipedia = WikipediaQueryRun(api_wrapper=WikipediaAPIWrapper(lang=\"vi\"))\n",
    "\n",
    "    # Thực thi truy vấn và trả về kết quả dưới dạng chuỗi\n",
    "    result = wikipedia.invoke(query)\n",
    "    return result if result else \"Không tìm thấy thông tin trên Wikipedia.\"\n",
    "\n",
    "@tool(description=\"Search for information on DuckDuckGo in Vietnamese\")\n",
    "def search_duckduckgo(query: str) -> str:\n",
    "    \"\"\"\n",
    "    Searches for information on DuckDuckGo using the given query.\n",
    "    \n",
    "    Args:\n",
    "        query (str): The search query string.\n",
    "    \n",
    "    Returns:\n",
    "        str: Search results from DuckDuckGo in Vietnamese.\n",
    "    \"\"\"\n",
    "    wrapper = DuckDuckGoSearchAPIWrapper(region=\"vn\", time=\"d\", max_results=1)\n",
    "    search = DuckDuckGoSearchRun(api_wrapper=wrapper)\n",
    "\n",
    "    result = search.invoke(query)\n",
    "    return result if result else \"Không tìm thấy thông tin trên DuckDuckGo.\"\n",
    "\n",
    "@tool(description=\"Search for information on both Wikipedia and DuckDuckGo in Vietnamese\")\n",
    "def search(query: str) -> str:\n",
    "    \"\"\"\n",
    "    Searches for information on both Wikipedia and DuckDuckGo using the given query.\n",
    "    \n",
    "    Args:\n",
    "        query (str): The search query string.\n",
    "    \n",
    "    Returns:\n",
    "        str: Combined search results.\n",
    "    \"\"\"\n",
    "    wikipedia_result = search_wikipedia(query)\n",
    "    if \"Không tìm thấy thông tin\" not in wikipedia_result:\n",
    "        return wikipedia_result\n",
    "    else:\n",
    "        return search_duckduckgo(query)"
   ]
  },
  {
   "cell_type": "code",
   "execution_count": 20,
   "metadata": {},
   "outputs": [],
   "source": [
    "llm = ChatGoogleGenerativeAI(model=\"gemini-1.5-pro\", max_tokens=100, temperature=0.5, top_p=1.0, frequency_penalty=0.0, presence_penalty=0.0)\n",
    "\n",
    "tools = [search_wikipedia, search_duckduckgo]\n",
    "\n",
    "agent = create_tool_calling_agent(llm, tools, prompt)\n",
    "\n",
    "agent_executor = AgentExecutor(agent=agent, tools=tools, verbose=True)"
   ]
  },
  {
   "cell_type": "code",
   "execution_count": 21,
   "metadata": {},
   "outputs": [],
   "source": [
    "store = {}\n",
    "\n",
    "def get_session_history(session_id: str) -> BaseChatMessageHistory:\n",
    "    if session_id not in store:\n",
    "        store[session_id] = ChatMessageHistory()\n",
    "    return store[session_id]\n",
    "\n",
    "agent_with_history = RunnableWithMessageHistory(\n",
    "    agent_executor, \n",
    "    get_session_history,\n",
    "    input_messages_key=\"input_message\",\n",
    "    history_messages_key=\"chat_history\",\n",
    ")"
   ]
  },
  {
   "cell_type": "code",
   "execution_count": 22,
   "metadata": {},
   "outputs": [
    {
     "name": "stdout",
     "output_type": "stream",
     "text": [
      "\n",
      "\n",
      "\u001b[1m> Entering new AgentExecutor chain...\u001b[0m\n",
      "\u001b[32;1m\u001b[1;3m\n",
      "Invoking: `search_wikipedia` with `{'query': 'Việt Nam'}`\n",
      "responded: Mình là một trợ lý ảo giúp người dùng tìm kiếm thông tin trên Wikipedia và DuckDuckGo.\n",
      "Dạ, mình sẽ giúp bạn tìm thông tin về Việt Nam.\n",
      "\n",
      "\u001b[0m\u001b[36;1m\u001b[1;3mPage: Việt Nam\n",
      "Summary: Việt Nam, quốc hiệu là Cộng hòa xã hội chủ nghĩa Việt Nam, là một quốc gia nằm ở cực Đông của bán đảo Đông Dương thuộc khu vực Đông Nam Á, giáp với Lào, Campuchia, Trung Quốc, biển Đông và vịnh Thái Lan.\n",
      "Lãnh thổ Việt Nam xuất hiện con người sinh sống từ thời đại đồ đá cũ, khởi đầu với các nhà nước Văn Lang, Âu Lạc. Âu Lạc bị nhà Triệu ở phương Bắc thôn tính vào đầu thế kỷ thứ 2 TCN sau đó là thời kỳ Bắc thuộc kéo dài hơn một thiên niên kỷ. Chế độ quân chủ độc lập được tái lập sau chiến thắng của Ngô Quyền trước nhà Nam Hán, mở đường cho các triều đại độc lập kế tục, nhiều lần chiến thắng trước các cuộc chiến tranh xâm lược từ phương Bắc đồng thời dần mở rộng về phía nam. Thời kỳ Bắc thuộc cuối cùng kết thúc sau chiến thắng trước nhà Minh của nghĩa quân Lam Sơn.\n",
      "Đến thời cận đại, Việt Nam lần lượt trải qua các giai đoạn Pháp thuộc và Nhật thuộc. Sau khi đánh bại và buộc Nhật Bản đầu hàng, khối Đồng Minh tạo điều kiện cho Pháp thu hồi Liên bang Đông Dương. Kết thúc Thế chiến II, Việt Nam chịu sự can thiệp của các nước Đồng Minh bao gồm Anh, Pháp (miền Nam), Trung Hoa Dân Quốc (miền Bắc). Nhà nước Việt Nam Dân chủ Cộng hòa do Việt Minh lãnh đạo ra đời khi Hồ Chí Minh tuyên bố độc lập vào ngày 2 tháng 9 năm 1945 sau thành công của Cách mạng Tháng Tám và chiến thắng Liên hiệp Pháp cùng Quốc gia Việt Nam do Pháp hậu thuẫn trong chiến tranh Đông Dương lần thứ nhất. Sự kiện này dẫn tới Hiệp định Genève (1954) được ký kết và Việt Nam bị chia cắt thành hai vùng tập kết quân sự, lấy ranh giới là vĩ tuyến 17. Việt Nam Dân chủ Cộng hòa kiểm soát phần phía bắc còn phía nam do Việt Nam Cộng hòa (nhà nước kế tục Quốc gia Việt Nam) kiểm soát và được Hoa Kỳ hậu thuẫn. Xung đột về vấn đề thống nhất lãnh thổ đã dẫn tới chiến tranh Việt Nam với sự can thiệp của nhiều nước và kết thúc với chiến thắng của Việt Nam Dân chủ Cộng hòa, Mặt trận Dân tộc Giải phóng miền Nam Việt Nam cùng sự sụp đổ của Việt Nam Cộng hòa vào năm 1975. Chủ quyền phần phía Nam được chính quyền Cộng hòa miền Nam Việt Nam (do Mặt trận Dân tộc Giải phóng miền Nam Việt Nam thành lập) giành quyền kiểm soát. Năm 1976, Việt Nam Dân chủ Cộng hòa và Cộng hòa miền Nam Việt Nam thống nhất thành Cộng hòa xã hội chủ nghĩa Việt Nam.\n",
      "Sau khi tái thống nhất, Việt Nam tiếp tục gặp khó khăn do sự sụp đổ và tan rã của đồng minh Liên Xô cùng Khối phía Đông, các lệnh cấm vận của Hoa Kỳ, chiến tranh Đông Dương lần ba và hậu quả của chính sách bao cấp sau nhiều năm áp dụng. Năm 1986, Đảng Cộng sản Việt Nam ban hành cải cách đổi mới, xây dựng kinh tế thị trường và hội nhập sâu rộng. Cải cách kinh tế cùng quy mô dân số lớn đưa Việt Nam trở thành một trong những nước đang phát triển có tốc độ tăng trưởng thuộc nhóm nhanh nhất thế giới, được coi là Hổ mới châu Á dù cho vẫn gặp phải những thách thức như tham nhũng, tội phạm gia tăng, ô nhiễm môi trường và phúc lợi xã hội chưa đầy đủ. Ngoài ra, giới bất đồng chính kiến và các tổ chức theo dõi nhân quyền có quan điểm chỉ trích hồ sơ nhân quyền của Việt Nam liên quan đến các vấn đề tôn giáo, kiểm duyệt truyền thông và tự do dân sự.\n",
      "\n",
      "Page: Việt Nam Cộng hòa\n",
      "Summary: Việt Nam Cộng hòa (VNCH; tiếng Anh: Republic of Vietnam; tiếng Pháp: République du Viêt Nam, viết tắt RVN) là một nhà nước đã từng tồn tại từ năm 1955 đến năm 1975 trong lịch sử Việt Nam.\n",
      "Trong các tài liệu quốc tế, chính phủ này còn được gọi là South Vietnam (n.đ. 'Nam Việt Nam'  hoặc 'miền Nam Việt Nam') để chỉ phạm vi địa lý kể từ khi Hiệp định Genève được ký kết và Việt Nam bị chia cắt thành hai vùng tập kết quân sự tạm thời. Với sự hậu thuẫn của Hoa Kỳ, Việt Nam Cộng hòa bác bỏ việc thực hiện tổng tuyển cử thống nhất Việt Nam vào năm 1956 theo Hiệp định Genève với lý do họ không ký hiệp định này. Chính phủ Việt Nam Cộng hòa đối chọi với Chính phủ Cách mạng lâm thời Cộng hòa miền Nam Việt Nam thành lập năm 1969 do Mặt trận Dân tộc Giải phóng miền Nam Việt Nam lãnh đạo.\n",
      "Nguồn gốc của Việt Nam Cộng hòa bắt nguồn từ Chiến tranh Đông Dương. Sau Chiến tranh thế giới thứ h\u001b[0m\u001b[32;1m\u001b[1;3mĐây là thông tin về Việt Nam:\n",
      "\n",
      "Việt Nam, quốc hiệu là Cộng hòa xã hội chủ nghĩa Việt Nam, là một quốc gia nằm ở cực Đông của bán đảo Đông Dương thuộc khu vực Đông Nam Á, giáp với Lào, Campuchia, Trung Quốc, biển Đông và vịnh Thái Lan.\n",
      "Lãnh thổ Việt Nam xuất hiện con người sinh sống từ thời đại đồ đá cũ, khởi đầu với các nhà nước Văn Lang, Âu Lạc.\u001b[0m\n",
      "\n",
      "\u001b[1m> Finished chain.\u001b[0m\n"
     ]
    },
    {
     "data": {
      "text/plain": [
       "{'input_message': 'Cho mình biết thông tin về Việt Nam.',\n",
       " 'chat_history': [],\n",
       " 'output': 'Đây là thông tin về Việt Nam:\\n\\nViệt Nam, quốc hiệu là Cộng hòa xã hội chủ nghĩa Việt Nam, là một quốc gia nằm ở cực Đông của bán đảo Đông Dương thuộc khu vực Đông Nam Á, giáp với Lào, Campuchia, Trung Quốc, biển Đông và vịnh Thái Lan.\\nLãnh thổ Việt Nam xuất hiện con người sinh sống từ thời đại đồ đá cũ, khởi đầu với các nhà nước Văn Lang, Âu Lạc.'}"
      ]
     },
     "execution_count": 22,
     "metadata": {},
     "output_type": "execute_result"
    }
   ],
   "source": [
    "agent_with_history.invoke(\n",
    "    {\"input_message\": \"Cho mình biết thông tin về Việt Nam.\"},\n",
    "    config={\"configurable\": {\"session_id\": \"ss1\"}},\n",
    ")"
   ]
  },
  {
   "cell_type": "code",
   "execution_count": 24,
   "metadata": {},
   "outputs": [
    {
     "name": "stdout",
     "output_type": "stream",
     "text": [
      "\n",
      "\n",
      "\u001b[1m> Entering new AgentExecutor chain...\u001b[0m\n",
      "\u001b[32;1m\u001b[1;3m\n",
      "Invoking: `search_wikipedia` with `{'query': 'Thủ đô của Việt Nam'}`\n",
      "responded: Dạ, mình sẽ giúp bạn tìm thông tin về Vậy thủ đô của Việt Nam là gì?.\n",
      "\n",
      "\u001b[0m\u001b[36;1m\u001b[1;3mPage: Thủ đô Việt Nam\n",
      "Summary: Thủ đô Việt Nam hiện nay là thành phố Hà Nội. Sau đây là danh sách các kinh đô/thủ đô – hiểu theo nghĩa rộng – là các trung tâm chính trị của chính thể nhà nước trong lịch sử Việt Nam, và cả của các vương quốc cổ/cựu quốc gia từng tồn tại trên lãnh thổ Việt Nam ngày nay.\n",
      "\n",
      "Page: Việt Nam\n",
      "Summary: Việt Nam, quốc hiệu là Cộng hòa xã hội chủ nghĩa Việt Nam, là một quốc gia nằm ở cực Đông của bán đảo Đông Dương thuộc khu vực Đông Nam Á, giáp với Lào, Campuchia, Trung Quốc, biển Đông và vịnh Thái Lan.\n",
      "Lãnh thổ Việt Nam xuất hiện con người sinh sống từ thời đại đồ đá cũ, khởi đầu với các nhà nước Văn Lang, Âu Lạc. Âu Lạc bị nhà Triệu ở phương Bắc thôn tính vào đầu thế kỷ thứ 2 TCN sau đó là thời kỳ Bắc thuộc kéo dài hơn một thiên niên kỷ. Chế độ quân chủ độc lập được tái lập sau chiến thắng của Ngô Quyền trước nhà Nam Hán, mở đường cho các triều đại độc lập kế tục, nhiều lần chiến thắng trước các cuộc chiến tranh xâm lược từ phương Bắc đồng thời dần mở rộng về phía nam. Thời kỳ Bắc thuộc cuối cùng kết thúc sau chiến thắng trước nhà Minh của nghĩa quân Lam Sơn.\n",
      "Đến thời cận đại, Việt Nam lần lượt trải qua các giai đoạn Pháp thuộc và Nhật thuộc. Sau khi đánh bại và buộc Nhật Bản đầu hàng, khối Đồng Minh tạo điều kiện cho Pháp thu hồi Liên bang Đông Dương. Kết thúc Thế chiến II, Việt Nam chịu sự can thiệp của các nước Đồng Minh bao gồm Anh, Pháp (miền Nam), Trung Hoa Dân Quốc (miền Bắc). Nhà nước Việt Nam Dân chủ Cộng hòa do Việt Minh lãnh đạo ra đời khi Hồ Chí Minh tuyên bố độc lập vào ngày 2 tháng 9 năm 1945 sau thành công của Cách mạng Tháng Tám và chiến thắng Liên hiệp Pháp cùng Quốc gia Việt Nam do Pháp hậu thuẫn trong chiến tranh Đông Dương lần thứ nhất. Sự kiện này dẫn tới Hiệp định Genève (1954) được ký kết và Việt Nam bị chia cắt thành hai vùng tập kết quân sự, lấy ranh giới là vĩ tuyến 17. Việt Nam Dân chủ Cộng hòa kiểm soát phần phía bắc còn phía nam do Việt Nam Cộng hòa (nhà nước kế tục Quốc gia Việt Nam) kiểm soát và được Hoa Kỳ hậu thuẫn. Xung đột về vấn đề thống nhất lãnh thổ đã dẫn tới chiến tranh Việt Nam với sự can thiệp của nhiều nước và kết thúc với chiến thắng của Việt Nam Dân chủ Cộng hòa, Mặt trận Dân tộc Giải phóng miền Nam Việt Nam cùng sự sụp đổ của Việt Nam Cộng hòa vào năm 1975. Chủ quyền phần phía Nam được chính quyền Cộng hòa miền Nam Việt Nam (do Mặt trận Dân tộc Giải phóng miền Nam Việt Nam thành lập) giành quyền kiểm soát. Năm 1976, Việt Nam Dân chủ Cộng hòa và Cộng hòa miền Nam Việt Nam thống nhất thành Cộng hòa xã hội chủ nghĩa Việt Nam.\n",
      "Sau khi tái thống nhất, Việt Nam tiếp tục gặp khó khăn do sự sụp đổ và tan rã của đồng minh Liên Xô cùng Khối phía Đông, các lệnh cấm vận của Hoa Kỳ, chiến tranh Đông Dương lần ba và hậu quả của chính sách bao cấp sau nhiều năm áp dụng. Năm 1986, Đảng Cộng sản Việt Nam ban hành cải cách đổi mới, xây dựng kinh tế thị trường và hội nhập sâu rộng. Cải cách kinh tế cùng quy mô dân số lớn đưa Việt Nam trở thành một trong những nước đang phát triển có tốc độ tăng trưởng thuộc nhóm nhanh nhất thế giới, được coi là Hổ mới châu Á dù cho vẫn gặp phải những thách thức như tham nhũng, tội phạm gia tăng, ô nhiễm môi trường và phúc lợi xã hội chưa đầy đủ. Ngoài ra, giới bất đồng chính kiến và các tổ chức theo dõi nhân quyền có quan điểm chỉ trích hồ sơ nhân quyền của Việt Nam liên quan đến các vấn đề tôn giáo, kiểm duyệt truyền thông và tự do dân sự.\n",
      "\n",
      "Page: Đô thị Việt Nam\n",
      "Summary: Đô thị Việt Nam là những đô thị bao gồm thành phố, thị xã, thị trấn được các cơ quan nhà nước có thẩm quyền ở Việt Nam ra quyết định công nhận hoặc thành lập.\n",
      "Mặc dù huyện và xã là cấp hành chính tại khu vực nông thôn nhưng trong những trường hợp đặc biệt, nếu đủ điều kiện về quy mô và tính chất đô thị hóa thì huyện có thể được công nhận là đô thị, như Bộ Xây dựng quyết định công nhận huyện Diên Khánh (Khánh Hòa), huyện Núi Thành (Quảng Nam), huyện Yên Phong (Bắc Ninh), huyện Hiệp Hòa (Bắc Giang), huyện Tiểu Cần (Trà Vinh) là đô thị loại IV. Một số xã chuẩn bị được nâng cấp \u001b[0m\u001b[32;1m\u001b[1;3mThủ đô của Việt Nam hiện nay là thành phố Hà Nội.\u001b[0m\n",
      "\n",
      "\u001b[1m> Finished chain.\u001b[0m\n"
     ]
    },
    {
     "data": {
      "text/plain": [
       "{'input_message': 'Vậy thủ đô của Việt Nam là gì?',\n",
       " 'chat_history': [HumanMessage(content='Cho mình biết thông tin về Việt Nam.', additional_kwargs={}, response_metadata={}),\n",
       "  AIMessage(content='Đây là thông tin về Việt Nam:\\n\\nViệt Nam, quốc hiệu là Cộng hòa xã hội chủ nghĩa Việt Nam, là một quốc gia nằm ở cực Đông của bán đảo Đông Dương thuộc khu vực Đông Nam Á, giáp với Lào, Campuchia, Trung Quốc, biển Đông và vịnh Thái Lan.\\nLãnh thổ Việt Nam xuất hiện con người sinh sống từ thời đại đồ đá cũ, khởi đầu với các nhà nước Văn Lang, Âu Lạc.', additional_kwargs={}, response_metadata={})],\n",
       " 'output': 'Thủ đô của Việt Nam hiện nay là thành phố Hà Nội.'}"
      ]
     },
     "execution_count": 24,
     "metadata": {},
     "output_type": "execute_result"
    }
   ],
   "source": [
    "agent_with_history.invoke(\n",
    "    {\"input_message\": \"Vậy thủ đô của Việt Nam là gì?\"},\n",
    "    config={\"configurable\": {\"session_id\"   : \"ss1\"}}\n",
    ")"
   ]
  },
  {
   "cell_type": "code",
   "execution_count": 25,
   "metadata": {},
   "outputs": [
    {
     "name": "stdout",
     "output_type": "stream",
     "text": [
      "\n",
      "\n",
      "\u001b[1m> Entering new AgentExecutor chain...\u001b[0m\n",
      "\u001b[32;1m\u001b[1;3m\n",
      "Invoking: `search_wikipedia` with `{'query': 'những người tham gia chương trình anh trai \"Say Hi\"'}`\n",
      "responded: Dạ, mình sẽ giúp bạn tìm thông tin về những người tham gia chương trình anh trai 'Say Hi'.\n",
      "\n",
      "\u001b[0m\u001b[36;1m\u001b[1;3mPage: Anh trai \"say hi\"\n",
      "Summary: Anh trai \"say hi\" là một chương trình truyền hình thực tế về âm nhạc được phát sóng trên kênh HTV2 - Vie Channel, ON Vie Giải Trí và ứng dụng VieON từ ngày 15 tháng 6 năm 2024. Chương trình có sự tham gia của 30 \"anh trai\" là những nam nghệ sĩ đang hoạt động trong lĩnh vực nghệ thuật.\n",
      "\n",
      "Page: Anh Tú (sinh 1992)\n",
      "Summary: Nguyễn Anh Tú (sinh ngày 30 tháng 5 năm 1992), thường được biết đến với nghệ danh Anh Tú, là một nam ca sĩ người Việt Nam.\n",
      "\n",
      "Page: Anh trai \"say hi\" (mùa 1)\n",
      "Summary: Mùa đầu tiên của chương trình Anh trai \"say hi\" được phát sóng trên kênh truyền hình HTV2 - Vie Channel, ON Vie Giải Trí và ứng dụng VieON từ ngày 15 tháng 6 đến ngày 14 tháng 9 năm 2024.\n",
      "Người chiến thắng của mùa này là HIEUTHUHAI, và người về nhì là Rhyder. Đội hình nhóm nhạc chiến thắng mang tên Anh trai \"Best 5\" đã được xác lập, bao gồm Isaac, Đức Phúc, Quang Hùng MasterD, HIEUTHUHAI và Rhyder.\u001b[0m\u001b[32;1m\u001b[1;3mDạ, mình sẽ giúp bạn tìm thông tin về những người tham gia chương trình anh trai 'Say Hi'.\n",
      "\n",
      "Đây là thông tin về những người tham gia chương trình anh trai \"Say Hi\":\n",
      "\n",
      "Chương trình \"Anh trai \\\"say hi\\\"\" là một chương trình truyền hình thực tế về âm nhạc được phát sóng trên kênh HTV2 - Vie Channel, ON Vie Giải Trí và ứng dụng VieON từ ngày 15 tháng 6 năm 2024.\u001b[0m\n",
      "\n",
      "\u001b[1m> Finished chain.\u001b[0m\n"
     ]
    },
    {
     "data": {
      "text/plain": [
       "{'input_message': \"Cho mình thông tin về những người tham gia chương trình anh trai 'Say Hi'.\",\n",
       " 'chat_history': [HumanMessage(content='Cho mình biết thông tin về Việt Nam.', additional_kwargs={}, response_metadata={}),\n",
       "  AIMessage(content='Đây là thông tin về Việt Nam:\\n\\nViệt Nam, quốc hiệu là Cộng hòa xã hội chủ nghĩa Việt Nam, là một quốc gia nằm ở cực Đông của bán đảo Đông Dương thuộc khu vực Đông Nam Á, giáp với Lào, Campuchia, Trung Quốc, biển Đông và vịnh Thái Lan.\\nLãnh thổ Việt Nam xuất hiện con người sinh sống từ thời đại đồ đá cũ, khởi đầu với các nhà nước Văn Lang, Âu Lạc.', additional_kwargs={}, response_metadata={}),\n",
       "  HumanMessage(content='Vậy thủ đô của Việt Nam là gì?', additional_kwargs={}, response_metadata={}),\n",
       "  AIMessage(content='Thủ đô của Việt Nam hiện nay là thành phố Hà Nội.', additional_kwargs={}, response_metadata={})],\n",
       " 'output': 'Dạ, mình sẽ giúp bạn tìm thông tin về những người tham gia chương trình anh trai \\'Say Hi\\'.\\n\\nĐây là thông tin về những người tham gia chương trình anh trai \"Say Hi\":\\n\\nChương trình \"Anh trai \\\\\"say hi\\\\\"\" là một chương trình truyền hình thực tế về âm nhạc được phát sóng trên kênh HTV2 - Vie Channel, ON Vie Giải Trí và ứng dụng VieON từ ngày 15 tháng 6 năm 2024.'}"
      ]
     },
     "execution_count": 25,
     "metadata": {},
     "output_type": "execute_result"
    }
   ],
   "source": [
    "agent_with_history.invoke(\n",
    "    {\"input_message\": \"Cho mình thông tin về những người tham gia chương trình anh trai 'Say Hi'.\"},\n",
    "    config={\"configurable\": {\"session_id\": \"ss1\"}}\n",
    ")"
   ]
  },
  {
   "cell_type": "code",
   "execution_count": 26,
   "metadata": {},
   "outputs": [
    {
     "name": "stdout",
     "output_type": "stream",
     "text": [
      "\n",
      "\n",
      "\u001b[1m> Entering new AgentExecutor chain...\u001b[0m\n",
      "\u001b[32;1m\u001b[1;3mKhông có gì, bạn cứ hỏi nếu cần giúp đỡ.\u001b[0m\n",
      "\n",
      "\u001b[1m> Finished chain.\u001b[0m\n"
     ]
    },
    {
     "data": {
      "text/plain": [
       "{'input_message': 'Cảm ơn bạn.',\n",
       " 'chat_history': [HumanMessage(content='Cho mình biết thông tin về Việt Nam.', additional_kwargs={}, response_metadata={}),\n",
       "  AIMessage(content='Đây là thông tin về Việt Nam:\\n\\nViệt Nam, quốc hiệu là Cộng hòa xã hội chủ nghĩa Việt Nam, là một quốc gia nằm ở cực Đông của bán đảo Đông Dương thuộc khu vực Đông Nam Á, giáp với Lào, Campuchia, Trung Quốc, biển Đông và vịnh Thái Lan.\\nLãnh thổ Việt Nam xuất hiện con người sinh sống từ thời đại đồ đá cũ, khởi đầu với các nhà nước Văn Lang, Âu Lạc.', additional_kwargs={}, response_metadata={}),\n",
       "  HumanMessage(content='Vậy thủ đô của Việt Nam là gì?', additional_kwargs={}, response_metadata={}),\n",
       "  AIMessage(content='Thủ đô của Việt Nam hiện nay là thành phố Hà Nội.', additional_kwargs={}, response_metadata={}),\n",
       "  HumanMessage(content=\"Cho mình thông tin về những người tham gia chương trình anh trai 'Say Hi'.\", additional_kwargs={}, response_metadata={}),\n",
       "  AIMessage(content='Dạ, mình sẽ giúp bạn tìm thông tin về những người tham gia chương trình anh trai \\'Say Hi\\'.\\n\\nĐây là thông tin về những người tham gia chương trình anh trai \"Say Hi\":\\n\\nChương trình \"Anh trai \\\\\"say hi\\\\\"\" là một chương trình truyền hình thực tế về âm nhạc được phát sóng trên kênh HTV2 - Vie Channel, ON Vie Giải Trí và ứng dụng VieON từ ngày 15 tháng 6 năm 2024.', additional_kwargs={}, response_metadata={})],\n",
       " 'output': 'Không có gì, bạn cứ hỏi nếu cần giúp đỡ.'}"
      ]
     },
     "execution_count": 26,
     "metadata": {},
     "output_type": "execute_result"
    }
   ],
   "source": [
    "agent_with_history.invoke(\n",
    "    {\"input_message\": \"Cảm ơn bạn.\"},\n",
    "    config={\"configurable\": {\"session_id\": \"ss1\"}}\n",
    ")"
   ]
  }
 ],
 "metadata": {
  "kernelspec": {
   "display_name": "Python 3",
   "language": "python",
   "name": "python3"
  },
  "language_info": {
   "codemirror_mode": {
    "name": "ipython",
    "version": 3
   },
   "file_extension": ".py",
   "mimetype": "text/x-python",
   "name": "python",
   "nbconvert_exporter": "python",
   "pygments_lexer": "ipython3",
   "version": "3.12.4"
  }
 },
 "nbformat": 4,
 "nbformat_minor": 2
}
